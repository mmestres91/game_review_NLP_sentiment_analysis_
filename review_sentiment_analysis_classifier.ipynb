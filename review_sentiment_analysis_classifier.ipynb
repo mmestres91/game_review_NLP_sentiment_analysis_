{
  "nbformat": 4,
  "nbformat_minor": 0,
  "metadata": {
    "colab": {
      "provenance": [],
      "mount_file_id": "1_3xHIaD4IYtAQrNJCMKbej6fi2kpSi7X",
      "authorship_tag": "ABX9TyOhGK+AOeGrp6vvYHu9068o",
      "include_colab_link": true
    },
    "kernelspec": {
      "name": "python3",
      "display_name": "Python 3"
    },
    "language_info": {
      "name": "python"
    }
  },
  "cells": [
    {
      "cell_type": "markdown",
      "metadata": {
        "id": "view-in-github",
        "colab_type": "text"
      },
      "source": [
        "<a href=\"https://colab.research.google.com/github/mmestres91/game_review_NLP_sentiment_analysis_/blob/main/review_sentiment_analysis_classifier.ipynb\" target=\"_parent\"><img src=\"https://colab.research.google.com/assets/colab-badge.svg\" alt=\"Open In Colab\"/></a>"
      ]
    },
    {
      "cell_type": "code",
      "execution_count": 40,
      "metadata": {
        "id": "CdL2cbweLtQT"
      },
      "outputs": [],
      "source": [
        "import pandas as pd\n",
        "import numpy as np\n",
        "import plotly.express as px\n",
        "from sklearn.model_selection import train_test_split\n",
        "from sklearn.metrics import f1_score\n",
        "from sklearn.metrics import log_loss\n",
        "import matplotlib.pyplot as plt\n",
        "from sklearn.metrics import confusion_matrix, accuracy_score\n",
        "from sklearn.metrics import classification_report\n",
        "import sklearn.metrics as metrics\n",
        "from sklearn.ensemble import RandomForestClassifier\n",
        "import re\n",
        "from sklearn.model_selection import train_test_split\n",
        "from imblearn.over_sampling import RandomOverSampler\n",
        "\n",
        "from gensim.models import KeyedVectors\n",
        "import gensim.downloader as api\n",
        "from gensim.models.doc2vec import Doc2Vec, TaggedDocument\n",
        "from nltk.corpus import stopwords\n",
        "import nltk"
      ]
    },
    {
      "cell_type": "code",
      "source": [
        "df = pd.read_csv('/content/drive/MyDrive/review_data.csv')\n",
        "df.shape"
      ],
      "metadata": {
        "colab": {
          "base_uri": "https://localhost:8080/"
        },
        "id": "OrC8VsyIMC6w",
        "outputId": "14fa68d3-d20a-4827-8526-5f1d6004a920"
      },
      "execution_count": 29,
      "outputs": [
        {
          "output_type": "execute_result",
          "data": {
            "text/plain": [
              "(273656, 7)"
            ]
          },
          "metadata": {},
          "execution_count": 29
        }
      ]
    },
    {
      "cell_type": "code",
      "source": [
        "df.head()"
      ],
      "metadata": {
        "colab": {
          "base_uri": "https://localhost:8080/",
          "height": 206
        },
        "id": "dvY8H6t0wMuT",
        "outputId": "5f8bbe83-834d-4c05-d8d9-084aaee58a43"
      },
      "execution_count": 30,
      "outputs": [
        {
          "output_type": "execute_result",
          "data": {
            "text/plain": [
              "   Unnamed: 0      title        asin  overall    brand  \\\n",
              "0           0  Anno 2070  0700026657      5.0  Ubisoft   \n",
              "1           1  Anno 2070  0700026657      4.0  Ubisoft   \n",
              "2           2  Anno 2070  0700026657      3.0  Ubisoft   \n",
              "3           3  Anno 2070  0700026657      2.0  Ubisoft   \n",
              "4           4  Anno 2070  0700026657      5.0  Ubisoft   \n",
              "\n",
              "                                          reviewText  \\\n",
              "0  This game is a bit hard to get the hang of, bu...   \n",
              "1  I played it a while but it was alright. The st...   \n",
              "2                                           ok game.   \n",
              "3  found the game a bit too complicated, not what...   \n",
              "4  great game, I love it and have played it since...   \n",
              "\n",
              "                                       summary  \n",
              "0                  but when you do it's great.  \n",
              "1  But in spite of that it was fun, I liked it  \n",
              "2                                  Three Stars  \n",
              "3                                    Two Stars  \n",
              "4                               love this game  "
            ],
            "text/html": [
              "\n",
              "  <div id=\"df-f75ad38d-f396-4ad4-9136-9fd6306668ec\">\n",
              "    <div class=\"colab-df-container\">\n",
              "      <div>\n",
              "<style scoped>\n",
              "    .dataframe tbody tr th:only-of-type {\n",
              "        vertical-align: middle;\n",
              "    }\n",
              "\n",
              "    .dataframe tbody tr th {\n",
              "        vertical-align: top;\n",
              "    }\n",
              "\n",
              "    .dataframe thead th {\n",
              "        text-align: right;\n",
              "    }\n",
              "</style>\n",
              "<table border=\"1\" class=\"dataframe\">\n",
              "  <thead>\n",
              "    <tr style=\"text-align: right;\">\n",
              "      <th></th>\n",
              "      <th>Unnamed: 0</th>\n",
              "      <th>title</th>\n",
              "      <th>asin</th>\n",
              "      <th>overall</th>\n",
              "      <th>brand</th>\n",
              "      <th>reviewText</th>\n",
              "      <th>summary</th>\n",
              "    </tr>\n",
              "  </thead>\n",
              "  <tbody>\n",
              "    <tr>\n",
              "      <th>0</th>\n",
              "      <td>0</td>\n",
              "      <td>Anno 2070</td>\n",
              "      <td>0700026657</td>\n",
              "      <td>5.0</td>\n",
              "      <td>Ubisoft</td>\n",
              "      <td>This game is a bit hard to get the hang of, bu...</td>\n",
              "      <td>but when you do it's great.</td>\n",
              "    </tr>\n",
              "    <tr>\n",
              "      <th>1</th>\n",
              "      <td>1</td>\n",
              "      <td>Anno 2070</td>\n",
              "      <td>0700026657</td>\n",
              "      <td>4.0</td>\n",
              "      <td>Ubisoft</td>\n",
              "      <td>I played it a while but it was alright. The st...</td>\n",
              "      <td>But in spite of that it was fun, I liked it</td>\n",
              "    </tr>\n",
              "    <tr>\n",
              "      <th>2</th>\n",
              "      <td>2</td>\n",
              "      <td>Anno 2070</td>\n",
              "      <td>0700026657</td>\n",
              "      <td>3.0</td>\n",
              "      <td>Ubisoft</td>\n",
              "      <td>ok game.</td>\n",
              "      <td>Three Stars</td>\n",
              "    </tr>\n",
              "    <tr>\n",
              "      <th>3</th>\n",
              "      <td>3</td>\n",
              "      <td>Anno 2070</td>\n",
              "      <td>0700026657</td>\n",
              "      <td>2.0</td>\n",
              "      <td>Ubisoft</td>\n",
              "      <td>found the game a bit too complicated, not what...</td>\n",
              "      <td>Two Stars</td>\n",
              "    </tr>\n",
              "    <tr>\n",
              "      <th>4</th>\n",
              "      <td>4</td>\n",
              "      <td>Anno 2070</td>\n",
              "      <td>0700026657</td>\n",
              "      <td>5.0</td>\n",
              "      <td>Ubisoft</td>\n",
              "      <td>great game, I love it and have played it since...</td>\n",
              "      <td>love this game</td>\n",
              "    </tr>\n",
              "  </tbody>\n",
              "</table>\n",
              "</div>\n",
              "      <button class=\"colab-df-convert\" onclick=\"convertToInteractive('df-f75ad38d-f396-4ad4-9136-9fd6306668ec')\"\n",
              "              title=\"Convert this dataframe to an interactive table.\"\n",
              "              style=\"display:none;\">\n",
              "        \n",
              "  <svg xmlns=\"http://www.w3.org/2000/svg\" height=\"24px\"viewBox=\"0 0 24 24\"\n",
              "       width=\"24px\">\n",
              "    <path d=\"M0 0h24v24H0V0z\" fill=\"none\"/>\n",
              "    <path d=\"M18.56 5.44l.94 2.06.94-2.06 2.06-.94-2.06-.94-.94-2.06-.94 2.06-2.06.94zm-11 1L8.5 8.5l.94-2.06 2.06-.94-2.06-.94L8.5 2.5l-.94 2.06-2.06.94zm10 10l.94 2.06.94-2.06 2.06-.94-2.06-.94-.94-2.06-.94 2.06-2.06.94z\"/><path d=\"M17.41 7.96l-1.37-1.37c-.4-.4-.92-.59-1.43-.59-.52 0-1.04.2-1.43.59L10.3 9.45l-7.72 7.72c-.78.78-.78 2.05 0 2.83L4 21.41c.39.39.9.59 1.41.59.51 0 1.02-.2 1.41-.59l7.78-7.78 2.81-2.81c.8-.78.8-2.07 0-2.86zM5.41 20L4 18.59l7.72-7.72 1.47 1.35L5.41 20z\"/>\n",
              "  </svg>\n",
              "      </button>\n",
              "      \n",
              "  <style>\n",
              "    .colab-df-container {\n",
              "      display:flex;\n",
              "      flex-wrap:wrap;\n",
              "      gap: 12px;\n",
              "    }\n",
              "\n",
              "    .colab-df-convert {\n",
              "      background-color: #E8F0FE;\n",
              "      border: none;\n",
              "      border-radius: 50%;\n",
              "      cursor: pointer;\n",
              "      display: none;\n",
              "      fill: #1967D2;\n",
              "      height: 32px;\n",
              "      padding: 0 0 0 0;\n",
              "      width: 32px;\n",
              "    }\n",
              "\n",
              "    .colab-df-convert:hover {\n",
              "      background-color: #E2EBFA;\n",
              "      box-shadow: 0px 1px 2px rgba(60, 64, 67, 0.3), 0px 1px 3px 1px rgba(60, 64, 67, 0.15);\n",
              "      fill: #174EA6;\n",
              "    }\n",
              "\n",
              "    [theme=dark] .colab-df-convert {\n",
              "      background-color: #3B4455;\n",
              "      fill: #D2E3FC;\n",
              "    }\n",
              "\n",
              "    [theme=dark] .colab-df-convert:hover {\n",
              "      background-color: #434B5C;\n",
              "      box-shadow: 0px 1px 3px 1px rgba(0, 0, 0, 0.15);\n",
              "      filter: drop-shadow(0px 1px 2px rgba(0, 0, 0, 0.3));\n",
              "      fill: #FFFFFF;\n",
              "    }\n",
              "  </style>\n",
              "\n",
              "      <script>\n",
              "        const buttonEl =\n",
              "          document.querySelector('#df-f75ad38d-f396-4ad4-9136-9fd6306668ec button.colab-df-convert');\n",
              "        buttonEl.style.display =\n",
              "          google.colab.kernel.accessAllowed ? 'block' : 'none';\n",
              "\n",
              "        async function convertToInteractive(key) {\n",
              "          const element = document.querySelector('#df-f75ad38d-f396-4ad4-9136-9fd6306668ec');\n",
              "          const dataTable =\n",
              "            await google.colab.kernel.invokeFunction('convertToInteractive',\n",
              "                                                     [key], {});\n",
              "          if (!dataTable) return;\n",
              "\n",
              "          const docLinkHtml = 'Like what you see? Visit the ' +\n",
              "            '<a target=\"_blank\" href=https://colab.research.google.com/notebooks/data_table.ipynb>data table notebook</a>'\n",
              "            + ' to learn more about interactive tables.';\n",
              "          element.innerHTML = '';\n",
              "          dataTable['output_type'] = 'display_data';\n",
              "          await google.colab.output.renderOutput(dataTable, element);\n",
              "          const docLink = document.createElement('div');\n",
              "          docLink.innerHTML = docLinkHtml;\n",
              "          element.appendChild(docLink);\n",
              "        }\n",
              "      </script>\n",
              "    </div>\n",
              "  </div>\n",
              "  "
            ]
          },
          "metadata": {},
          "execution_count": 30
        }
      ]
    },
    {
      "cell_type": "code",
      "source": [
        "#Data Preprocessing - Create Target Sentiment column, remove neutral reviews, set stop words and remove, parse out symbols, puncuations and numbers\n",
        "\n",
        "df['sentiment'] = df['overall'].apply(lambda rating : +1 if rating > 3 else (-1 if rating == 3 else 0))\n",
        "\n",
        "df = df.loc[df[\"sentiment\"] >= 0]\n",
        "df.reset_index(inplace=True)\n",
        "\n",
        "\n",
        "nltk.download('stopwords')\n",
        "stop_words = set(stopwords.words('english'))\n",
        "stopwords = set(stop_words)\n",
        "stopwords.update([\"br\", \"href\"])\n",
        "df['reviewText'] = df['reviewText'].str.replace(r'[^\\w\\s]+', '')\n",
        "df['reviewText'] = df['reviewText'].apply(lambda x: ' '.join([str(word) for word in str(x).split() if word not in (stopwords)]))\n",
        "df['reviewText'] = df['reviewText'].str.replace('\\d+', '')"
      ],
      "metadata": {
        "colab": {
          "base_uri": "https://localhost:8080/"
        },
        "id": "AbMkrlIcxyNF",
        "outputId": "f129f91e-4094-4fd5-eafc-4f359d2af66a"
      },
      "execution_count": 31,
      "outputs": [
        {
          "output_type": "stream",
          "name": "stderr",
          "text": [
            "[nltk_data] Downloading package stopwords to /root/nltk_data...\n",
            "[nltk_data]   Package stopwords is already up-to-date!\n",
            "<ipython-input-31-b80f4c144ccd>:11: FutureWarning: The default value of regex will change from True to False in a future version.\n",
            "  df['reviewText'] = df['reviewText'].str.replace(r'[^\\w\\s]+', '')\n",
            "<ipython-input-31-b80f4c144ccd>:13: FutureWarning: The default value of regex will change from True to False in a future version.\n",
            "  df['reviewText'] = df['reviewText'].str.replace('\\d+', '')\n"
          ]
        }
      ]
    },
    {
      "cell_type": "code",
      "source": [
        "#Tokenize words in reviews\n",
        "\n",
        "review_docs = [TaggedDocument(doc.split(' '), [i]) \n",
        "             for i, doc in enumerate(df.reviewText)]"
      ],
      "metadata": {
        "id": "e742FYehszp2"
      },
      "execution_count": 32,
      "outputs": []
    },
    {
      "cell_type": "code",
      "source": [
        "#Initialize model and set parameters \n",
        "\n",
        "model = Doc2Vec(vector_size=64, window=2, min_count=1, workers=8, epochs = 15)"
      ],
      "metadata": {
        "id": "yEx7yuiis5jL"
      },
      "execution_count": 33,
      "outputs": []
    },
    {
      "cell_type": "code",
      "source": [
        "model.build_vocab(review_docs)\n",
        "#train model\n",
        "model.train(review_docs, total_examples=model.corpus_count\n",
        "            , epochs=model.epochs)\n"
      ],
      "metadata": {
        "id": "GYw2YaFjs6LQ"
      },
      "execution_count": 34,
      "outputs": []
    },
    {
      "cell_type": "code",
      "source": [
        "#Generate vectors\n",
        "card2vec = [model.infer_vector((df['reviewText'][i].split(' '))) \n",
        "  for i in range(0,len(df['reviewText']))]"
      ],
      "metadata": {
        "id": "DW2e0YN_s6Ny"
      },
      "execution_count": 35,
      "outputs": []
    },
    {
      "cell_type": "code",
      "source": [
        "#Calculate average of each word vector row\n",
        "def Average(lst):\n",
        "    return sum(lst) / len(lst)\n",
        "\n",
        "avgList = []\n",
        "for item in card2vec:\n",
        "  average = Average(item)\n",
        "  avgList.append(average)"
      ],
      "metadata": {
        "id": "ey3IGaFgs6Pw"
      },
      "execution_count": 36,
      "outputs": []
    },
    {
      "cell_type": "code",
      "source": [
        "#Set Avaerage Word Vector to Dataframe\n",
        "\n",
        "df['review2vec'] = avgList\n",
        "df_clean = df[['review2vec', 'sentiment']]"
      ],
      "metadata": {
        "id": "FCsSMuGPs6SL"
      },
      "execution_count": 37,
      "outputs": []
    },
    {
      "cell_type": "code",
      "source": [
        "#Save Vectorized DataFrame\n",
        "\n",
        "df_clean.to_csv('/content/drive/MyDrive/vec_data.csv')"
      ],
      "metadata": {
        "id": "vQrTWvsD67nR"
      },
      "execution_count": 45,
      "outputs": []
    },
    {
      "cell_type": "code",
      "source": [
        "#Load Vectorized DataFrame\n",
        "\n",
        "df = pd.read_csv('/content/drive/MyDrive/vec_data.csv')"
      ],
      "metadata": {
        "id": "B2uMdH8D7BSs"
      },
      "execution_count": 46,
      "outputs": []
    },
    {
      "cell_type": "code",
      "source": [
        "y = df.sentiment\n",
        "X = df[['review2vec']]"
      ],
      "metadata": {
        "id": "fAChov-n692n"
      },
      "execution_count": 47,
      "outputs": []
    },
    {
      "cell_type": "code",
      "source": [
        "print(X.shape)\n",
        "print(y.shape)"
      ],
      "metadata": {
        "colab": {
          "base_uri": "https://localhost:8080/"
        },
        "id": "_2832OfNtIsf",
        "outputId": "a4bf95ee-285a-49fa-c0c4-7fd0b0010081"
      },
      "execution_count": 48,
      "outputs": [
        {
          "output_type": "stream",
          "name": "stdout",
          "text": [
            "(247914, 1)\n",
            "(247914,)\n"
          ]
        }
      ]
    },
    {
      "cell_type": "code",
      "source": [
        "# define oversampling strategy\n",
        "oversample = RandomOverSampler(sampling_strategy='minority')\n",
        "# fit and apply the transform\n",
        "X_over, y_over = oversample.fit_resample(X, y)"
      ],
      "metadata": {
        "id": "apPnZLV-tPoH"
      },
      "execution_count": 49,
      "outputs": []
    },
    {
      "cell_type": "code",
      "source": [
        "X_train, X_test, Y_train, Y_test = train_test_split(X_over, y_over, test_size = 0.2, random_state = 80)"
      ],
      "metadata": {
        "id": "myOe6iE7tRsJ"
      },
      "execution_count": 50,
      "outputs": []
    },
    {
      "cell_type": "code",
      "source": [
        "model_rf = RandomForestClassifier(n_estimators = 10, criterion = 'entropy')\n",
        "model_rf.fit(X_train, Y_train)"
      ],
      "metadata": {
        "colab": {
          "base_uri": "https://localhost:8080/"
        },
        "id": "EdHSOA7wtTyd",
        "outputId": "fb6b951a-d9a6-4534-d525-95710098fd61"
      },
      "execution_count": 43,
      "outputs": [
        {
          "output_type": "execute_result",
          "data": {
            "text/plain": [
              "RandomForestClassifier(criterion='entropy', n_estimators=10)"
            ]
          },
          "metadata": {},
          "execution_count": 43
        }
      ]
    },
    {
      "cell_type": "code",
      "source": [
        "# Predicting the Test set results\n",
        "y_pred = model_rf.predict(X_test)\n",
        "# Making the Confusion Matrix\n",
        "print(classification_report(Y_test, y_pred))"
      ],
      "metadata": {
        "colab": {
          "base_uri": "https://localhost:8080/"
        },
        "id": "ogUrV_tetVzT",
        "outputId": "9967df22-8c3b-4400-e1a3-104cf909e36d"
      },
      "execution_count": 44,
      "outputs": [
        {
          "output_type": "stream",
          "name": "stdout",
          "text": [
            "              precision    recall  f1-score   support\n",
            "\n",
            "           0       0.85      0.99      0.91     44263\n",
            "           1       0.99      0.82      0.90     43847\n",
            "\n",
            "    accuracy                           0.91     88110\n",
            "   macro avg       0.92      0.90      0.90     88110\n",
            "weighted avg       0.92      0.91      0.90     88110\n",
            "\n"
          ]
        }
      ]
    },
    {
      "cell_type": "code",
      "source": [
        "# Add in Confusion Matrix\n",
        "# GridSearchCV to fine-tune parameters\n",
        "# Explore Text Hero for more EDA"
      ],
      "metadata": {
        "id": "3W3MJKNi6Vgn"
      },
      "execution_count": null,
      "outputs": []
    }
  ]
}